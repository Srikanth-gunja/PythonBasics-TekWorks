{
 "cells": [
  {
   "cell_type": "markdown",
   "id": "4db407e8",
   "metadata": {},
   "source": [
    "## Functions\n"
   ]
  },
  {
   "cell_type": "code",
   "execution_count": 40,
   "id": "aa0836c8",
   "metadata": {},
   "outputs": [
    {
     "name": "stdout",
     "output_type": "stream",
     "text": [
      "Valid Password\n"
     ]
    }
   ],
   "source": [
    "\n",
    "def password_validator(password):\n",
    "    if  len(password) < 10 or len(password) >15:\n",
    "        return \"password length should min 10 and max of 15 chars\"\n",
    "    if not any(c.islower() for c in password):\n",
    "        return \"password should have atleast a lower case letter\"\n",
    "    if not any(c.isdigit() for c in password):\n",
    "        return \"password should have atleast a digit letter\"\n",
    "    if not any(c.isupper() for c in password):\n",
    "        return \"password should have atleast a upper case letter\"\n",
    "    if not any(c in ['@','#','$','!','%','^','&','*','(',')'] for c in password):\n",
    "        return \"No Special Character found in password\"\n",
    "    if len(password) != len(password.strip()):\n",
    "        return \"No white spaces should be present \"\n",
    "    else:\n",
    "        return \"Valid Password\"\n",
    "print(password_validator(\"Yyyyohrrhy2g@\")) \n"
   ]
  },
  {
   "cell_type": "code",
   "execution_count": 122,
   "id": "b2060016",
   "metadata": {},
   "outputs": [
    {
     "name": "stdout",
     "output_type": "stream",
     "text": [
      "120\n"
     ]
    }
   ],
   "source": [
    "# Factorail\n",
    "def fact(n):\n",
    "    if n<=1:\n",
    "        return 1\n",
    "    else:\n",
    "        return n*fact(n-1)\n",
    "print(fact(5))"
   ]
  },
  {
   "cell_type": "markdown",
   "id": "d8ebf69d",
   "metadata": {},
   "source": [
    "#### DATA STURCTUREs\n",
    "\n",
    "add"
   ]
  },
  {
   "cell_type": "code",
   "execution_count": 135,
   "id": "e6b4d661",
   "metadata": {},
   "outputs": [
    {
     "name": "stdout",
     "output_type": "stream",
     "text": [
      "[12, 45, 34, 67, 89, [2, 3, 4]]\n",
      "[12, 34, 67, 89, [2, 3, 4]]\n",
      "[34, 67, 89, [2, 3, 4]]\n",
      "[34, 67, 89]\n",
      "89\n",
      "[89, 67, 34]\n"
     ]
    },
    {
     "data": {
      "text/plain": [
       "[34, 67, 89, 2, 3, 4]"
      ]
     },
     "execution_count": 135,
     "metadata": {},
     "output_type": "execute_result"
    }
   ],
   "source": [
    "a=[12,45,34,67,89]\n",
    "b=[2,3,4]\n",
    "a.append(b)\n",
    "print(a)\n",
    "a.remove(45)\n",
    "print(a)\n",
    "a.pop(0)\n",
    "print(a)\n",
    "a.pop()\n",
    "print(a)\n",
    "print(a[-1])\n",
    "print(a[::-1])\n",
    "a.extend(b) # [12, 45, 34, 67, 89, 2, 3, 4]\n",
    "a"
   ]
  },
  {
   "cell_type": "code",
   "execution_count": 137,
   "id": "32fe92b9",
   "metadata": {},
   "outputs": [
    {
     "data": {
      "text/plain": [
       "{12: 'srikanth', 13: 'sdf'}"
      ]
     },
     "execution_count": 137,
     "metadata": {},
     "output_type": "execute_result"
    }
   ],
   "source": [
    "names={\n",
    "    12:\"srikanth\",\n",
    "    13:\"sdf\"\n",
    "}\n",
    "names[13]=\"sdf\"\n",
    "names"
   ]
  },
  {
   "cell_type": "code",
   "execution_count": 139,
   "id": "858fbfd8",
   "metadata": {},
   "outputs": [
    {
     "data": {
      "text/plain": [
       "set"
      ]
     },
     "execution_count": 139,
     "metadata": {},
     "output_type": "execute_result"
    }
   ],
   "source": [
    "a=set()\n",
    "type(a)"
   ]
  },
  {
   "cell_type": "code",
   "execution_count": 151,
   "id": "488143dd",
   "metadata": {},
   "outputs": [
    {
     "name": "stdout",
     "output_type": "stream",
     "text": [
      "The discount is 9750.0\n"
     ]
    }
   ],
   "source": [
    "def calculate_total(cart):\n",
    " \n",
    "    total=sum(cart.values())\n",
    "    if(total> 20000 or total < 50000):\n",
    "            total *= 0.1\n",
    "    elif total>50000:\n",
    "            total*=0.15\n",
    "    return total\n",
    "cart={\n",
    "    'Laptop':50000,'Headphones':2000,'Mouse':35000,'Keyboard':1500,'Monitor':8000,'USB drive':1000\n",
    "}\n",
    "print(f\"The discount is {calculate_total(cart)}\")"
   ]
  },
  {
   "cell_type": "code",
   "execution_count": 42,
   "id": "c5f1083a",
   "metadata": {},
   "outputs": [
    {
     "name": "stderr",
     "output_type": "stream",
     "text": [
      "warning: in the working copy of 'OneDrive/Desktop/TraningDataScience/.ipynb_checkpoints/PythonConcepts-checkpoint.ipynb', LF will be replaced by CRLF the next time Git touches it\n",
      "warning: in the working copy of 'OneDrive/Desktop/TraningDataScience/PythonConcepts.ipynb', LF will be replaced by CRLF the next time Git touches it\n"
     ]
    }
   ],
   "source": [
    "! git add ."
   ]
  },
  {
   "cell_type": "code",
   "execution_count": null,
   "id": "3f2f2cd3-e54e-46b1-8001-75c47a6bb6eb",
   "metadata": {},
   "outputs": [],
   "source": []
  }
 ],
 "metadata": {
  "kernelspec": {
   "display_name": "Python 3 (ipykernel)",
   "language": "python",
   "name": "python3"
  },
  "language_info": {
   "codemirror_mode": {
    "name": "ipython",
    "version": 3
   },
   "file_extension": ".py",
   "mimetype": "text/x-python",
   "name": "python",
   "nbconvert_exporter": "python",
   "pygments_lexer": "ipython3",
   "version": "3.12.7"
  }
 },
 "nbformat": 4,
 "nbformat_minor": 5
}
